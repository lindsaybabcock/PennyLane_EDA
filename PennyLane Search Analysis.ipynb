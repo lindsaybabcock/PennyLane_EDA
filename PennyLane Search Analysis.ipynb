{
 "cells": [
  {
   "cell_type": "markdown",
   "id": "52468862",
   "metadata": {},
   "source": [
    "# PennyLane Search Exploratory Data Analysis"
   ]
  },
  {
   "cell_type": "markdown",
   "id": "bdc903ed",
   "metadata": {},
   "source": [
    "We will be exploring a dataset regarding the recent searches from PennyLane.ai/search. We will start by loading the data and getting a general idea of what kinds of data are including in the dataset."
   ]
  },
  {
   "cell_type": "code",
   "execution_count": 1,
   "id": "fb0e530c",
   "metadata": {},
   "outputs": [],
   "source": [
    "#import required libraries\n",
    "import matplotlib.pyplot as plt\n",
    "import pandas as pd\n",
    "import seaborn as sns\n",
    "\n",
    "#read in csv file of search data\n",
    "df=pd.read_csv('/Users/lindsaybabcock/Documents/Work/Applications/Xanadu/search_analytics.csv')"
   ]
  },
  {
   "cell_type": "code",
   "execution_count": 2,
   "id": "98b4bb47",
   "metadata": {},
   "outputs": [
    {
     "name": "stdout",
     "output_type": "stream",
     "text": [
      "<class 'pandas.core.frame.DataFrame'>\n",
      "RangeIndex: 220524 entries, 0 to 220523\n",
      "Data columns (total 11 columns):\n",
      " #   Column                Non-Null Count   Dtype              \n",
      "---  ------                --------------   -----              \n",
      " 0   id                    220524 non-null  object             \n",
      " 1   created_at            220524 non-null  datetime64[ns, UTC]\n",
      " 2   query_text            19596 non-null   object             \n",
      " 3   total_results         220524 non-null  int64              \n",
      " 4   search_parameters     220524 non-null  object             \n",
      " 5   query_content_types   220456 non-null  object             \n",
      " 6   response_content_ids  220524 non-null  object             \n",
      " 7   role                  576 non-null     object             \n",
      " 8   survey                3095 non-null    object             \n",
      " 9   personas              3095 non-null    object             \n",
      " 10  persona_other         112 non-null     object             \n",
      "dtypes: datetime64[ns, UTC](1), int64(1), object(9)\n",
      "memory usage: 18.5+ MB\n"
     ]
    },
    {
     "data": {
      "text/html": [
       "<div>\n",
       "<style scoped>\n",
       "    .dataframe tbody tr th:only-of-type {\n",
       "        vertical-align: middle;\n",
       "    }\n",
       "\n",
       "    .dataframe tbody tr th {\n",
       "        vertical-align: top;\n",
       "    }\n",
       "\n",
       "    .dataframe thead th {\n",
       "        text-align: right;\n",
       "    }\n",
       "</style>\n",
       "<table border=\"1\" class=\"dataframe\">\n",
       "  <thead>\n",
       "    <tr style=\"text-align: right;\">\n",
       "      <th></th>\n",
       "      <th>id</th>\n",
       "      <th>created_at</th>\n",
       "      <th>query_text</th>\n",
       "      <th>total_results</th>\n",
       "      <th>search_parameters</th>\n",
       "      <th>query_content_types</th>\n",
       "      <th>response_content_ids</th>\n",
       "      <th>role</th>\n",
       "      <th>survey</th>\n",
       "      <th>personas</th>\n",
       "      <th>persona_other</th>\n",
       "    </tr>\n",
       "  </thead>\n",
       "  <tbody>\n",
       "    <tr>\n",
       "      <th>0</th>\n",
       "      <td>04c0a197-0cbc-4bca-b5d4-c6134ba49546</td>\n",
       "      <td>2024-08-08 21:25:44.101779+00:00</td>\n",
       "      <td>mikhail</td>\n",
       "      <td>4</td>\n",
       "      <td>{\"sort\": null, \"limit\": 16, \"filter\": \"((type ...</td>\n",
       "      <td>NaN</td>\n",
       "      <td>[\"blog-2024-03-pennylane-release-0-35\", \"blog-...</td>\n",
       "      <td>Software Developer</td>\n",
       "      <td>{\"uses_pennylane\": true}</td>\n",
       "      <td>[\"DEVELOPER\"]</td>\n",
       "      <td>NaN</td>\n",
       "    </tr>\n",
       "    <tr>\n",
       "      <th>1</th>\n",
       "      <td>0b0369f3-2bc9-4aa2-9f92-27e8954d8c41</td>\n",
       "      <td>2024-08-08 21:54:19.770839+00:00</td>\n",
       "      <td>NaN</td>\n",
       "      <td>37</td>\n",
       "      <td>{\"sort\": [\"published_at:desc\"], \"limit\": 16, \"...</td>\n",
       "      <td>NaN</td>\n",
       "      <td>[\"demo-tutorial_liesim_extension\", \"demo-coval...</td>\n",
       "      <td>NaN</td>\n",
       "      <td>NaN</td>\n",
       "      <td>NaN</td>\n",
       "      <td>NaN</td>\n",
       "    </tr>\n",
       "    <tr>\n",
       "      <th>2</th>\n",
       "      <td>0d72dae5-3aac-469f-910b-a7b98597ef7d</td>\n",
       "      <td>2024-08-08 21:26:07.410746+00:00</td>\n",
       "      <td>mikhail</td>\n",
       "      <td>5</td>\n",
       "      <td>{\"sort\": null, \"limit\": 16, \"filter\": \"((type ...</td>\n",
       "      <td>NaN</td>\n",
       "      <td>[\"profile-auth0-650db9b36ea825ef4f5f3f42\", \"pr...</td>\n",
       "      <td>Software Developer</td>\n",
       "      <td>{\"uses_pennylane\": true}</td>\n",
       "      <td>[\"DEVELOPER\"]</td>\n",
       "      <td>NaN</td>\n",
       "    </tr>\n",
       "    <tr>\n",
       "      <th>3</th>\n",
       "      <td>0e4fb2dd-6d5d-449b-b6a3-374d5430534a</td>\n",
       "      <td>2024-08-08 21:26:50.247836+00:00</td>\n",
       "      <td>izaac</td>\n",
       "      <td>82</td>\n",
       "      <td>{\"sort\": null, \"limit\": 16, \"filter\": \"((type ...</td>\n",
       "      <td>NaN</td>\n",
       "      <td>[\"demo-tutorial_How_to_optimize_QML_model_usin...</td>\n",
       "      <td>NaN</td>\n",
       "      <td>NaN</td>\n",
       "      <td>NaN</td>\n",
       "      <td>NaN</td>\n",
       "    </tr>\n",
       "    <tr>\n",
       "      <th>4</th>\n",
       "      <td>17d8319b-360a-4bf5-84a6-f2b1c753a692</td>\n",
       "      <td>2024-08-08 22:07:49.601295+00:00</td>\n",
       "      <td>NaN</td>\n",
       "      <td>5343</td>\n",
       "      <td>{\"sort\": null, \"limit\": 16, \"filter\": \"((type ...</td>\n",
       "      <td>NaN</td>\n",
       "      <td>[\"demo-tutorial_mbqc\", \"demo-tutorial_coherent...</td>\n",
       "      <td>NaN</td>\n",
       "      <td>NaN</td>\n",
       "      <td>NaN</td>\n",
       "      <td>NaN</td>\n",
       "    </tr>\n",
       "  </tbody>\n",
       "</table>\n",
       "</div>"
      ],
      "text/plain": [
       "                                     id                       created_at  \\\n",
       "0  04c0a197-0cbc-4bca-b5d4-c6134ba49546 2024-08-08 21:25:44.101779+00:00   \n",
       "1  0b0369f3-2bc9-4aa2-9f92-27e8954d8c41 2024-08-08 21:54:19.770839+00:00   \n",
       "2  0d72dae5-3aac-469f-910b-a7b98597ef7d 2024-08-08 21:26:07.410746+00:00   \n",
       "3  0e4fb2dd-6d5d-449b-b6a3-374d5430534a 2024-08-08 21:26:50.247836+00:00   \n",
       "4  17d8319b-360a-4bf5-84a6-f2b1c753a692 2024-08-08 22:07:49.601295+00:00   \n",
       "\n",
       "  query_text  total_results  \\\n",
       "0    mikhail              4   \n",
       "1        NaN             37   \n",
       "2    mikhail              5   \n",
       "3      izaac             82   \n",
       "4        NaN           5343   \n",
       "\n",
       "                                   search_parameters query_content_types  \\\n",
       "0  {\"sort\": null, \"limit\": 16, \"filter\": \"((type ...                 NaN   \n",
       "1  {\"sort\": [\"published_at:desc\"], \"limit\": 16, \"...                 NaN   \n",
       "2  {\"sort\": null, \"limit\": 16, \"filter\": \"((type ...                 NaN   \n",
       "3  {\"sort\": null, \"limit\": 16, \"filter\": \"((type ...                 NaN   \n",
       "4  {\"sort\": null, \"limit\": 16, \"filter\": \"((type ...                 NaN   \n",
       "\n",
       "                                response_content_ids                role  \\\n",
       "0  [\"blog-2024-03-pennylane-release-0-35\", \"blog-...  Software Developer   \n",
       "1  [\"demo-tutorial_liesim_extension\", \"demo-coval...                 NaN   \n",
       "2  [\"profile-auth0-650db9b36ea825ef4f5f3f42\", \"pr...  Software Developer   \n",
       "3  [\"demo-tutorial_How_to_optimize_QML_model_usin...                 NaN   \n",
       "4  [\"demo-tutorial_mbqc\", \"demo-tutorial_coherent...                 NaN   \n",
       "\n",
       "                     survey       personas persona_other  \n",
       "0  {\"uses_pennylane\": true}  [\"DEVELOPER\"]           NaN  \n",
       "1                       NaN            NaN           NaN  \n",
       "2  {\"uses_pennylane\": true}  [\"DEVELOPER\"]           NaN  \n",
       "3                       NaN            NaN           NaN  \n",
       "4                       NaN            NaN           NaN  "
      ]
     },
     "execution_count": 2,
     "metadata": {},
     "output_type": "execute_result"
    }
   ],
   "source": [
    "#Change column to datetime types\n",
    "df['created_at']=pd.to_datetime(df['created_at'],\n",
    "               format='%Y-%m-%d %H:%M:%S.%f')\n",
    "\n",
    "#take a look at data types/data \n",
    "df.info()\n",
    "df.head()"
   ]
  },
  {
   "cell_type": "markdown",
   "id": "47b3e4d9",
   "metadata": {},
   "source": [
    "## Search Traffic\n",
    "\n",
    "Now that we have an idea of the data we are exploring, we will begin by looking at trends in the search traffic over time."
   ]
  },
  {
   "cell_type": "code",
   "execution_count": 3,
   "id": "02251bdb",
   "metadata": {
    "scrolled": false
   },
   "outputs": [
    {
     "name": "stdout",
     "output_type": "stream",
     "text": [
      "Searches per day:\n",
      "count       79.0\n",
      "mean      2791.0\n",
      "std       4186.0\n",
      "min         58.0\n",
      "25%        590.0\n",
      "50%        755.0\n",
      "75%       3546.0\n",
      "max      18935.0\n",
      "Name: created_at, dtype: float64\n"
     ]
    },
    {
     "data": {
      "image/png": "[encoded data removed]",
      "text/plain": [
       "<Figure size 432x288 with 1 Axes>"
      ]
     },
     "metadata": {
      "needs_background": "light"
     },
     "output_type": "display_data"
    }
   ],
   "source": [
    "#Aggregate data to show searches per day\n",
    "df['created_at'].dt.date.value_counts().plot(rot=25, title='PennyLane Queries per day')\n",
    "plt.axhline(df['created_at'].dt.date.value_counts().mean(),c='r',ls='--')\n",
    "plt.ylabel('Number of Queries')\n",
    "plt.xlabel('Date')\n",
    "plt.legend(['query count', 'mean query count']);\n",
    "\n",
    "print('Searches per day:')\n",
    "print(round(df['created_at'].dt.date.value_counts().describe()))"
   ]
  },
  {
   "cell_type": "code",
   "execution_count": 4,
   "id": "00f1fc52",
   "metadata": {
    "scrolled": true
   },
   "outputs": [
    {
     "name": "stdout",
     "output_type": "stream",
     "text": [
      "Top searches during peak period:\n",
      "            Query   Count\n",
      "0             NaN  174394\n",
      "1            test    3010\n",
      "2             vqe      71\n",
      "3            qaoa      66\n",
      "4  neural network      37\n",
      "Top searches outside of peak period:\n",
      "     Query  Count\n",
      "0      NaN  26534\n",
      "1     test   4622\n",
      "2  quantum    192\n",
      "3     qaoa    178\n",
      "4      vqe    143\n"
     ]
    }
   ],
   "source": [
    "#Show top queries during the time of the search traffic spike.\n",
    "df_peak = df.loc[(df['created_at'] >= '2024-08-27') & (df['created_at'] <= '2024-09-19')] \n",
    "print('Top searches during peak period:')\n",
    "print(df_peak['query_text'].value_counts(dropna=False).rename_axis('Query').reset_index(name='Count').head())\n",
    "\n",
    "#Show top queries outside of the time of the search traffic spike.\n",
    "df_nonpeak = df.loc[(df['created_at'] < '2024-08-27') | (df['created_at'] > '2024-09-19')]\n",
    "print('Top searches outside of peak period:')\n",
    "print(df_nonpeak['query_text'].value_counts(dropna=False).rename_axis('Query').reset_index(name='Count').head())"
   ]
  },
  {
   "cell_type": "code",
   "execution_count": 5,
   "id": "51cb489c",
   "metadata": {},
   "outputs": [
    {
     "name": "stdout",
     "output_type": "stream",
     "text": [
      "Non-null searches per day:\n",
      "count     79.0\n",
      "mean     248.0\n",
      "std       74.0\n",
      "min       36.0\n",
      "25%      196.0\n",
      "50%      252.0\n",
      "75%      293.0\n",
      "max      482.0\n",
      "Name: created_at, dtype: float64\n",
      "Total non-null searches:  19596\n"
     ]
    },
    {
     "data": {
      "image/png": "[encoded data removed]",
      "text/plain": [
       "<Figure size 432x288 with 1 Axes>"
      ]
     },
     "metadata": {
      "needs_background": "light"
     },
     "output_type": "display_data"
    }
   ],
   "source": [
    "#create subset dataframe excluding nulls in the query text\n",
    "df_text = df.dropna(subset=['query_text'])\n",
    "\n",
    "#Aggregate data to show searches per day of non-null queries\n",
    "df_text['created_at'].dt.date.value_counts().plot(rot=25, title='Non-null PennyLane Queries per day')\n",
    "plt.axhline(df_text['created_at'].dt.date.value_counts().mean(),c='r',ls='--')\n",
    "plt.ylabel('Number of Queries')\n",
    "plt.xlabel('Date')\n",
    "plt.legend(['query count', 'mean query count']);\n",
    "\n",
    "\n",
    "print('Non-null searches per day:')\n",
    "print(round(df_text['created_at'].dt.date.value_counts().describe()))\n",
    "print('Total non-null searches: ', df_text.shape[0])"
   ]
  },
  {
   "cell_type": "markdown",
   "id": "da9838f3",
   "metadata": {},
   "source": [
    "There was a significant increase in search traffic between late August to mid September. Looking more closely at what was being queried at this time, it appears searches containing text did not increase in the same way. I am unsure of what caused the spike in activity of null queries during this time, potentially site testing/development.\n",
    "\n",
    "Removing the null queries brings the average queries per day down drastically from 2791 to 248. For the remainder of the analysis we will focus on queries containing text only.\n"
   ]
  },
  {
   "cell_type": "code",
   "execution_count": 7,
   "id": "da41498d",
   "metadata": {
    "scrolled": false
   },
   "outputs": [
    {
     "data": {
      "image/png": "[encoded data removed]",
      "text/plain": [
       "<Figure size 864x576 with 2 Axes>"
      ]
     },
     "metadata": {
      "needs_background": "light"
     },
     "output_type": "display_data"
    }
   ],
   "source": [
    "#import warnings\n",
    "#warnings.filterwarnings('ignore')\n",
    "\n",
    "df_text['day_of_week']=df_text['created_at'].dt.dayofweek\n",
    "df_text['hour_of_day']=df_text['created_at'].dt.hour\n",
    "\n",
    "search_counts = df_text.groupby(['day_of_week', 'hour_of_day']).size().unstack(fill_value=0)\n",
    "search_counts.index = ['Monday', 'Tuesday', 'Wednesday', 'Thursday', 'Friday', 'Saturday', 'Sunday']\n",
    "\n",
    "plt.figure(figsize=(12, 8))\n",
    "sns.heatmap(search_counts, cbar_kws={'label': 'Total queries per Time Unit'})\n",
    "plt.title('Frequency of Queries by Day of Week and Hour of Day')\n",
    "plt.xlabel('Hour of Day')\n",
    "plt.ylabel('Day of Week')\n",
    "plt.show()"
   ]
  },
  {
   "cell_type": "markdown",
   "id": "19270ada",
   "metadata": {},
   "source": [
    "I will be assuming that the 'created_at' times are recorded in the local time zone of the user.\n",
    "Here we see that the majority of queries are made during normal working hours - Monday to Friday, midday, suggesting that users of PennyLane are using it for work/school purposes."
   ]
  },
  {
   "cell_type": "markdown",
   "id": "bd65829d",
   "metadata": {},
   "source": [
    "## Demographics"
   ]
  },
  {
   "cell_type": "markdown",
   "id": "aafd0fbb",
   "metadata": {},
   "source": [
    "Below we will explore the distribution of demographics amongst users making queries on PennyLane.ai/search. "
   ]
  },
  {
   "cell_type": "code",
   "execution_count": 8,
   "id": "706d9940",
   "metadata": {},
   "outputs": [
    {
     "data": {
      "text/plain": [
       "NaN                          96.08%\n",
       "{\"uses_pennylane\": true}      2.92%\n",
       "{\"uses_pennylane\": false}      1.0%\n",
       "Name: survey, dtype: object"
      ]
     },
     "execution_count": 8,
     "metadata": {},
     "output_type": "execute_result"
    }
   ],
   "source": [
    "#Aggregate data to find percentage of users that log-in and use pennylane\n",
    "df_text['survey'].value_counts(dropna=False, normalize=True).mul(100).round(2).astype(str) + '%'"
   ]
  },
  {
   "cell_type": "markdown",
   "id": "e9e89836",
   "metadata": {},
   "source": [
    "96% of queries are done by users that are not signed in, thus we have little data about their specific roles. It may be useful to include features to encourage users to sign in/make accounts."
   ]
  },
  {
   "cell_type": "code",
   "execution_count": 9,
   "id": "89ff974d",
   "metadata": {
    "scrolled": false
   },
   "outputs": [
    {
     "name": "stdout",
     "output_type": "stream",
     "text": [
      "            persona_other  Count\n",
      "0       Community manager     28\n",
      "1         Xanadu employee      5\n",
      "2  Senior Product Manager      3\n"
     ]
    },
    {
     "data": {
      "image/png": "[encoded data removed]",
      "text/plain": [
       "<Figure size 432x288 with 1 Axes>"
      ]
     },
     "metadata": {
      "needs_background": "light"
     },
     "output_type": "display_data"
    }
   ],
   "source": [
    "#Show distribution of personas \n",
    "#print(df_text['personas'].unique())\n",
    "persona_types = ['RESEARCHER','DEVELOPER','STUDENT','HOBBYIST','EDUCATOR','OTHER']\n",
    "df_personas = pd.DataFrame(persona_types,columns=['type'])\n",
    "df_personas['counts']=[df_text['personas'].str.contains(x).sum() for x in persona_types]\n",
    "df_personas.plot(kind='bar', x='type', legend=False)\n",
    "plt.xlabel('Number of PennyLane Queries by Persona Type')\n",
    "plt.xlabel('Persona Type')\n",
    "plt.ylabel('Number of Queries')\n",
    "\n",
    "#Show non-categorized personas\n",
    "print(df_text['persona_other'].value_counts().rename_axis('persona_other').reset_index(name='Count'))"
   ]
  },
  {
   "cell_type": "code",
   "execution_count": 10,
   "id": "106abb84",
   "metadata": {
    "scrolled": false
   },
   "outputs": [
    {
     "data": {
      "text/plain": [
       "Text(0, 0.5, 'Percentage of queries')"
      ]
     },
     "execution_count": 10,
     "metadata": {},
     "output_type": "execute_result"
    },
    {
     "data": {
      "image/png": "[encoded data removed]",
      "text/plain": [
       "<Figure size 432x288 with 1 Axes>"
      ]
     },
     "metadata": {
      "needs_background": "light"
     },
     "output_type": "display_data"
    }
   ],
   "source": [
    "#create subset dataframes for various personas\n",
    "df_researcher = df[df.personas.str.contains('RESEARCHER',na=False)]\n",
    "df_developer = df[df.personas.str.contains('DEVELOPER',na=False)]\n",
    "df_student = df[df.personas.str.contains('STUDENT',na=False)]\n",
    "df_hobbyist = df[df.personas.str.contains('HOBBYIST',na=False)]\n",
    "df_educator = df[df.personas.str.contains('EDUCATOR',na=False)]\n",
    "#df_other = df[df.personas.str.contains(\"OTHER\",na=False)] #choosing not to include 'other' personas as there are so few queries of this type.\n",
    "\n",
    "content_types = ['DEMO','BLOG','CHALLENGE','PROFILE']\n",
    "personas_df = [df_text,df_researcher,df_developer,df_student,df_hobbyist,df_educator]\n",
    "\n",
    "#count occurances of querys filtered for each content type for each persona type\n",
    "df_gen = pd.DataFrame(content_types,columns=['type'])\n",
    "for dataframe in range(0,len(personas_df)):\n",
    "    df_gen[dataframe]= [personas_df[dataframe]['query_content_types'].str.contains(x).sum() for x in content_types]\n",
    "    df_gen[dataframe] = df_gen[dataframe]/df_gen[dataframe].sum()\n",
    "\n",
    "#Show barplot of content types for each persona\n",
    "df_gen.plot(kind='bar', x='type')\n",
    "plt.legend(['Unknown','Researcher','Developer','Student','Hobbyist','Educator'])\n",
    "plt.title('Queried Content Types by Persona')\n",
    "plt.xlabel('Content Type')\n",
    "plt.ylabel('Percentage of queries')"
   ]
  },
  {
   "cell_type": "markdown",
   "id": "10258378",
   "metadata": {},
   "source": [
    "The highest number of queries are made by Students, Researchers, and Developers. If we focus on supporting Reasearchers, as they are a high value persona, we can see that researchers are most often looking for demos, roughly 60% of the time, when searching PennyLane.ai. Focusing on providing high quality demo webpages would likely improve user experience for Researchers. On the other hand, researchers appear to be uninterested in profile or blog posts, searching for those types of content less than 10% of the time.\n",
    "For all groups, demos are most commonly searched for, therefore it may be beneficial to return them more often or closer to the top of the page for general queries without these filters on."
   ]
  },
  {
   "cell_type": "markdown",
   "id": "04470479",
   "metadata": {},
   "source": [
    "## Top Queries"
   ]
  },
  {
   "cell_type": "markdown",
   "id": "78332bba",
   "metadata": {},
   "source": [
    "We can now explore what is being queried to understand the users top interests."
   ]
  },
  {
   "cell_type": "code",
   "execution_count": 11,
   "id": "ad9d4b02",
   "metadata": {
    "scrolled": false
   },
   "outputs": [
    {
     "name": "stdout",
     "output_type": "stream",
     "text": [
      "General top queries:\n",
      "                  query_text  Count\n",
      "0                       test   7632\n",
      "1                       qaoa    244\n",
      "2                    quantum    228\n",
      "3                        vqe    214\n",
      "4                        qml    149\n",
      "5     quantum neural network    113\n",
      "6                variational    109\n",
      "7   quantum machine learning    101\n",
      "8                      torch     84\n",
      "9                hamiltonian     81\n",
      "10            neural network     80\n",
      "11                      shor     78\n",
      "12                       gpu     69\n",
      "13          classical shadow     68\n",
      "14                    kernel     68\n",
      "Top queries of researchers:\n",
      "                  query_text  Count\n",
      "0        simulated annealing     12\n",
      "1                       qaoa     11\n",
      "2                hamiltonian      9\n",
      "3             phase kickback      8\n",
      "4                    qmldata      8\n",
      "5               optimization      7\n",
      "6   quantum machine learning      7\n",
      "7                        gpu      7\n",
      "8                   photonic      6\n",
      "9                   encoding      6\n",
      "10                  kottmann      6\n",
      "11                       vqe      5\n",
      "12                    grover      5\n",
      "13               certificate      5\n",
      "14                     image      5\n"
     ]
    }
   ],
   "source": [
    "#Count which text items were queried the most\n",
    "print('General top queries:')\n",
    "print(df_text['query_text'].value_counts().rename_axis('query_text').reset_index(name='Count').head(15))\n",
    "\n",
    "print('Top queries of researchers:')\n",
    "print(df_researcher['query_text'].value_counts().rename_axis('query_text').reset_index(name='Count').head(15))"
   ]
  },
  {
   "cell_type": "markdown",
   "id": "2dd08e07",
   "metadata": {},
   "source": [
    "Looking at the top searches (ignoring 'test'), we can see that most often users are searching for items such as 'Quantum approximate optimization algorithm (QAOA)', 'Quantum Machine Learning (QML)', and 'Hamiltonian'. Researchers are also often searching for those items, as well as 'Simulated Annealing', 'Phase Kick-back', and 'Optimization'.\n",
    "\n",
    "Next we can order query results by the total results returned for the query in ascending order, and the number of times researchers have searched them, in descending order. These results give us an idea of what concepts users are interested in that are lacking resources on the PennyLane.ai website. "
   ]
  },
  {
   "cell_type": "code",
   "execution_count": 12,
   "id": "63aaad83",
   "metadata": {
    "scrolled": false
   },
   "outputs": [
    {
     "name": "stdout",
     "output_type": "stream",
     "text": [
      "Low result queries:\n",
      "                           query_text  total_results  count\n",
      "77                               alan              0     19\n",
      "5486                              vqc              0     19\n",
      "338                              bb84              0     10\n",
      "447   building molecular hamiltonians              0      9\n",
      "897                      cryptography              0      8\n",
      "2881                              mqt              0      8\n",
      "4421                             qubo              0      7\n",
      "101                            alpine              0      6\n",
      "261                       autoencoder              0      6\n",
      "3568                              qkd              0      6\n",
      "600                              cite              0      5\n",
      "3726                             qpca              0      5\n",
      "4584                               rl              0      5\n",
      "5278                              tsp              0      5\n",
      "1414                        federated              0      4\n",
      "1656                              gpu              0      4\n",
      "1940                              hhl              0      4\n",
      "2917                             nasa              0      4\n",
      "3343                 poissonboltzmann              0      4\n",
      "3455                             qaoa              0      4\n",
      "Low result queries for researchers:\n",
      "                        query_text  total_results  count\n",
      "182             womanium challenge              0      3\n",
      "33                         diamond              0      2\n",
      "40                             gpu              0      2\n",
      "69                             iqc              0      2\n",
      "114                           qaqo              0      2\n",
      "127  quantum bit string comparator              0      2\n",
      "82                  matt silverman              1      2\n",
      "105                       photonic              1      2\n",
      "178                            vqd              1      2\n",
      "41                             gpu              2      2\n",
      "149            simulated annealing              2      2\n",
      "108                      photonics              3      2\n",
      "176                            vqa              5      4\n",
      "121                            qnn              5      2\n",
      "42                             gpu              6      2\n"
     ]
    }
   ],
   "source": [
    "#Show lowest \n",
    "df_totals=df_text.groupby(['query_text','total_results']).size().reset_index(name=\"count\")\n",
    "df_totals=df_totals.sort_values(['total_results', 'count'], ascending = [True, False])\n",
    "print('Low result queries:')\n",
    "print(df_totals.loc[df_totals['count'] > 1].head(20)) #exclude entries with only one query\n",
    "\n",
    "print('Low result queries for researchers:')\n",
    "df_totals_research=df_researcher.groupby(['query_text','total_results']).size().reset_index(name=\"count\")\n",
    "df_totals_research=df_totals_research.sort_values(['total_results', 'count'], ascending = [True, False])\n",
    "print(df_totals_research.loc[df_totals_research['count'] > 1].head(15)) #exclude entries with only one query"
   ]
  },
  {
   "cell_type": "markdown",
   "id": "2963bcd1",
   "metadata": {},
   "source": [
    "In general, there appear to be a fair number of searches for quantum cryptography related queries ('bb84','cryptography',qkd'), with zero returned results. Specifically for researchers there are more quantum hardware related queries such as 'photonics' or 'diamond'. It may be helpful for users if more resources on these topics were developed. \n",
    "\n",
    "Further, certain results suggest user typos, such as 'qaqo', where the user is likely looking for 'qaoa'. Indicating potential room for improvement in the software for typo suggestion."
   ]
  },
  {
   "cell_type": "markdown",
   "id": "f89ad26f",
   "metadata": {},
   "source": [
    "As with many datasets, futher exploratory analysis could be done, including but not limited to: expanding the top queries analysis to include the users filters on content type (ie. see if diamond+BLOG is more often queried than diamond+DEMO), as well as explore sorting filters on queries, and understanding which result content id are shown the most."
   ]
  },
  {
   "cell_type": "code",
   "execution_count": null,
   "id": "70458fa9",
   "metadata": {},
   "outputs": [],
   "source": []
  }
 ],
 "metadata": {
  "kernelspec": {
   "display_name": "Python 3 (ipykernel)",
   "language": "python",
   "name": "python3"
  },
  "language_info": {
   "codemirror_mode": {
    "name": "ipython",
    "version": 3
   },
   "file_extension": ".py",
   "mimetype": "text/x-python",
   "name": "python",
   "nbconvert_exporter": "python",
   "pygments_lexer": "ipython3",
   "version": "3.9.12"
  }
 },
 "nbformat": 4,
 "nbformat_minor": 5
}
